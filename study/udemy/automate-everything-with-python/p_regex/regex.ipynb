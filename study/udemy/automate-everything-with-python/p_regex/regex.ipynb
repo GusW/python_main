{
 "cells": [
  {
   "cell_type": "markdown",
   "metadata": {
    "cell_id": "00000-fb39fc1b-2acd-49ab-9688-7920f57d73ce",
    "deepnote_cell_type": "text-cell-h2",
    "is_collapsed": false,
    "tags": []
   },
   "source": [
    "## What are regular expressions"
   ]
  },
  {
   "cell_type": "code",
   "execution_count": 2,
   "metadata": {
    "cell_id": "00000-00f0b971-64de-4e35-bf6f-a89d72f0a81d",
    "deepnote_cell_height": 111.53125,
    "deepnote_cell_type": "code",
    "deepnote_to_be_reexecuted": false,
    "execution_millis": 11,
    "execution_start": 1638894249400,
    "source_hash": "20b3f5dd",
    "tags": []
   },
   "outputs": [
    {
     "name": "stdout",
     "output_type": "stream",
     "text": [
      "Hello\n"
     ]
    }
   ],
   "source": [
    "print('Hello')"
   ]
  },
  {
   "cell_type": "code",
   "execution_count": 3,
   "metadata": {
    "cell_id": "00001-cde73cb7-d40e-47af-ac10-b7827cf49181",
    "deepnote_cell_height": 66,
    "deepnote_cell_type": "code",
    "tags": []
   },
   "outputs": [],
   "source": [
    "filenames = ['nov-12.txt', 'november-14.txt', 'Oct-17.txt', 'Nov-22.txt']"
   ]
  },
  {
   "cell_type": "markdown",
   "metadata": {
    "cell_id": "00004-35835222-851c-4814-8edd-49c0b54f49e0",
    "deepnote_cell_type": "text-cell-h2",
    "is_collapsed": false,
    "tags": []
   },
   "source": [
    "## Regular Expression Example"
   ]
  },
  {
   "cell_type": "code",
   "execution_count": 1,
   "metadata": {
    "cell_id": "00002-6d1854f9-0499-46d8-a1e9-2b3f8d9e7c97",
    "deepnote_cell_height": 81,
    "deepnote_cell_type": "code",
    "deepnote_to_be_reexecuted": false,
    "execution_millis": 5,
    "execution_start": 1638902556655,
    "source_hash": "87d0261d",
    "tags": []
   },
   "outputs": [],
   "source": [
    "text = 'Hi there you here exa_mple@example.com @blabla some more text here and there another@example.de'"
   ]
  },
  {
   "cell_type": "code",
   "execution_count": 10,
   "metadata": {
    "cell_id": "00003-665cba33-2f2a-4011-82cf-234bdbc8106b",
    "deepnote_cell_height": 190.1875,
    "deepnote_cell_type": "code",
    "deepnote_output_heights": [
     21.1875
    ],
    "deepnote_to_be_reexecuted": false,
    "execution_millis": 7,
    "execution_start": 1638902577622,
    "source_hash": "c0701c9b",
    "tags": []
   },
   "outputs": [
    {
     "name": "stdout",
     "output_type": "stream",
     "text": [
      "matches=['exa_mple@example.com', 'another@example.de']\n"
     ]
    }
   ],
   "source": [
    "from re import compile\n",
    "\n",
    "pattern = compile(r\"[^ ]+@[^ ]+.[a-z]+\")\n",
    "matches = pattern.findall(text)\n",
    "print(f\"{matches=}\")"
   ]
  },
  {
   "cell_type": "markdown",
   "metadata": {
    "cell_id": "00006-25826c8b-bcb5-4098-8a77-ec5207460906",
    "deepnote_cell_type": "text-cell-h2",
    "is_collapsed": false,
    "tags": []
   },
   "source": [
    "## Meta characters"
   ]
  },
  {
   "cell_type": "code",
   "execution_count": null,
   "metadata": {
    "cell_id": "00007-63985bba-03dc-4512-9acc-d0bd1f00c0c5",
    "deepnote_cell_height": 282,
    "deepnote_cell_type": "code",
    "tags": []
   },
   "outputs": [],
   "source": [
    "\"\"\"\n",
    ".        Matches any single character\n",
    "\\        Escapes one of the meta characters to treat it as a regular character\n",
    "[...]    Matches a single character or a range that is contained within brackets\n",
    "         _- -_ order does not matter but without brackets order does matter\n",
    "+        Matches the preceding element one or more times\n",
    "?        Matches the preceding pattern element zero or one time\n",
    "*        Matches the preceding element zero or more times\n",
    "{m,n}    Matches the preceding element at least m and not more than n times\n",
    "^        Matches the beginning of a line or string\n",
    "$        Matches the end of a line or string\n",
    "[^...]   Matches a single character or a range that is not contained within the brackets\n",
    "?:...|...\"Or\" operator\n",
    "()       Matches an optional expression\n",
    "\"\"\""
   ]
  },
  {
   "cell_type": "code",
   "execution_count": 3,
   "metadata": {
    "cell_id": "00008-82d4f24b-04bf-4466-a0a1-7cced85ee781",
    "deepnote_cell_height": 244.1875,
    "deepnote_cell_type": "code",
    "deepnote_output_heights": [
     21.1875
    ],
    "deepnote_to_be_reexecuted": false,
    "execution_millis": 165,
    "execution_start": 1638959114799,
    "source_hash": "8243bdc2",
    "tags": []
   },
   "outputs": [
    {
     "name": "stdout",
     "output_type": "stream",
     "text": [
      "matches=['exa_mple@example.com', 'another@example.de']\n"
     ]
    }
   ],
   "source": [
    "text = 'Hi there you here exa_mple@example.com @blabla.com some more text here and there another@example.de another@exampl.ne'\n",
    "\n",
    "import re\n",
    "\n",
    "pattern = re.compile(\"[^ ]+@[^ ]+\\.(?:com|de)+\")\n",
    "matches = pattern.findall(text)\n",
    "print(f\"{matches=}\")\n"
   ]
  },
  {
   "cell_type": "markdown",
   "metadata": {
    "cell_id": "00010-52544c71-50d8-4717-9041-ada28607cf8c",
    "deepnote_cell_type": "text-cell-h2",
    "is_collapsed": false,
    "tags": []
   },
   "source": [
    "## Extract URLs from Text"
   ]
  },
  {
   "cell_type": "code",
   "execution_count": 6,
   "metadata": {
    "cell_id": "00010-3ba917ae-90e5-4fa0-984b-a3720972fbf4",
    "deepnote_cell_height": 243.65625,
    "deepnote_cell_type": "code",
    "deepnote_to_be_reexecuted": false,
    "execution_millis": 168,
    "execution_start": 1638953920091,
    "source_hash": "798eb069",
    "tags": []
   },
   "outputs": [
    {
     "name": "stdout",
     "output_type": "stream",
     "text": [
      "http://google.com\n",
      "https://example.com\n",
      "http://www.wikipedia.com\n",
      "http://pythonhow.com\n",
      "https://python.org\n"
     ]
    }
   ],
   "source": [
    "from pathlib import Path\n",
    "\n",
    "from p_regex.constants import TEMP_FOLDER_PATH\n",
    "\n",
    "with open(Path.joinpath(TEMP_FOLDER_PATH,'urls.txt'), mode='r') as file:\n",
    "    content = file.read()\n",
    "\n",
    "print(content)"
   ]
  },
  {
   "cell_type": "code",
   "execution_count": 7,
   "metadata": {
    "cell_id": "00011-54d2366b-b41f-410f-817d-963157454a05",
    "deepnote_cell_height": 245.65625,
    "deepnote_cell_type": "code",
    "deepnote_to_be_reexecuted": false,
    "execution_millis": 5,
    "execution_start": 1638955108007,
    "source_hash": "d26842b8",
    "tags": []
   },
   "outputs": [
    {
     "name": "stdout",
     "output_type": "stream",
     "text": [
      "matches=['http://google.com', 'https://example.com', 'http://www.wikipedia.com', 'http://pythonhow.com']\n"
     ]
    }
   ],
   "source": [
    "import re\n",
    "\n",
    "pattern = re.compile(\"https?://(?:www.)?[^ \\n]+\\.com\")\n",
    "matches = pattern.findall(content)\n",
    "print(f\"{matches=}\")"
   ]
  },
  {
   "cell_type": "markdown",
   "metadata": {
    "cell_id": "00012-6db4504c-09ed-4d83-bff6-25505cfe7001",
    "deepnote_cell_type": "text-cell-h2",
    "is_collapsed": false,
    "tags": []
   },
   "source": [
    "## Extract IP addresses using regex"
   ]
  },
  {
   "cell_type": "code",
   "execution_count": 12,
   "metadata": {
    "cell_id": "00013-b70a223f-1eab-4292-b244-38fe5f1c9720",
    "deepnote_cell_height": 186.59375,
    "deepnote_cell_type": "code",
    "deepnote_to_be_reexecuted": false,
    "execution_millis": 10,
    "execution_start": 1638955852766,
    "source_hash": "67aabed0",
    "tags": []
   },
   "outputs": [
    {
     "name": "stdout",
     "output_type": "stream",
     "text": [
      "912.131.120.111\n",
      "912.131.134.000\n",
      "912.131.129.129\n"
     ]
    }
   ],
   "source": [
    "from pathlib import Path\n",
    "\n",
    "from p_regex.constants import TEMP_FOLDER_PATH\n",
    "\n",
    "with open(Path.joinpath(TEMP_FOLDER_PATH,'ips.txt'), mode='r') as file:\n",
    "    content = file.read()\n",
    "\n",
    "print(content)"
   ]
  },
  {
   "cell_type": "code",
   "execution_count": 10,
   "metadata": {
    "cell_id": "00014-01bcebad-54a4-4f8c-986c-f6610811c3fe",
    "deepnote_cell_height": 190.1875,
    "deepnote_cell_type": "code",
    "deepnote_output_heights": [
     21.1875
    ],
    "deepnote_to_be_reexecuted": false,
    "execution_millis": 12,
    "execution_start": 1638956015194,
    "source_hash": "4e8a89fb",
    "tags": []
   },
   "outputs": [
    {
     "data": {
      "text/plain": [
       "['912.131.120.111', '912.131.129.129']"
      ]
     },
     "execution_count": 10,
     "metadata": {},
     "output_type": "execute_result"
    }
   ],
   "source": [
    "import re\n",
    "\n",
    "# only the IPs complying with XXX.XXX.12X.XXX\n",
    "pattern = re.compile(\"[0-9]{3}\\.[0-9]{3}\\.12[0-9]{1}\\.[0-9]{3}\")\n",
    "matches = pattern.findall(content)\n",
    "matches"
   ]
  },
  {
   "cell_type": "markdown",
   "metadata": {
    "cell_id": "00015-ce278149-812a-49f4-834c-18283b642ba6",
    "deepnote_cell_type": "text-cell-h2",
    "is_collapsed": false,
    "tags": []
   },
   "source": [
    "## Filter filenames"
   ]
  },
  {
   "cell_type": "code",
   "execution_count": 6,
   "metadata": {
    "cell_id": "00016-eecd6b29-d138-4b48-842b-0621a70e8ee5",
    "deepnote_cell_height": 323.375,
    "deepnote_cell_type": "code",
    "deepnote_output_heights": [
     136.375
    ],
    "deepnote_to_be_reexecuted": false,
    "execution_millis": 94,
    "execution_start": 1638966474044,
    "source_hash": "6b91d3b1",
    "tags": []
   },
   "outputs": [
    {
     "data": {
      "text/plain": [
       "['November-24.txt',\n",
       " 'Nov-22.txt',\n",
       " 'Nov-02.txt',\n",
       " 'Nov-12.txt',\n",
       " 'Oct-17.txt',\n",
       " 'nov-20.txt',\n",
       " 'billy_Nov-13.txt',\n",
       " 'november-14.txt']"
      ]
     },
     "execution_count": 6,
     "metadata": {},
     "output_type": "execute_result"
    }
   ],
   "source": [
    "from p_regex.constants import FILES_FOLDER_PATH\n",
    "\n",
    "filenames = FILES_FOLDER_PATH.iterdir()\n",
    "filenames_str = [filename.name for filename in filenames]\n",
    "filenames_str"
   ]
  },
  {
   "cell_type": "code",
   "execution_count": 8,
   "metadata": {
    "cell_id": "00017-b892dcc9-f6d7-4b34-991c-47ba99317003",
    "deepnote_cell_height": 190.1875,
    "deepnote_cell_type": "code",
    "deepnote_output_heights": [
     21.1875
    ],
    "deepnote_to_be_reexecuted": false,
    "execution_millis": 32,
    "execution_start": 1638966477931,
    "source_hash": "21d7144",
    "tags": []
   },
   "outputs": [
    {
     "data": {
      "text/plain": [
       "['Nov-12.txt', 'nov-20.txt', 'billy_Nov-13.txt', 'november-14.txt']"
      ]
     },
     "execution_count": 8,
     "metadata": {},
     "output_type": "execute_result"
    }
   ],
   "source": [
    "import re\n",
    "\n",
    "# Only files from Nov-1 to Nov-20\n",
    "pattern = re.compile(\"nov[a-z]*-(?:0?[1-9]|1[0-9]|20).txt\", re.IGNORECASE)\n",
    "matches = [filename for filename in filenames_str if pattern.findall(filename)]\n",
    "matches"
   ]
  }
 ],
 "metadata": {
  "deepnote": {
   "is_reactive": false
  },
  "deepnote_execution_queue": [],
  "deepnote_notebook_id": "6503bbb7-e662-4652-8b50-fcc77259abc1",
  "kernelspec": {
   "display_name": "Python 3.10.5 ('.venv': venv)",
   "language": "python",
   "name": "python3"
  },
  "language_info": {
   "codemirror_mode": {
    "name": "ipython",
    "version": 3
   },
   "file_extension": ".py",
   "mimetype": "text/x-python",
   "name": "python",
   "nbconvert_exporter": "python",
   "pygments_lexer": "ipython3",
   "version": "3.10.5"
  },
  "orig_nbformat": 2,
  "vscode": {
   "interpreter": {
    "hash": "e49650b728da7183c18330133fd88307ed3b77aad1c8ba7173925f91ee77a829"
   }
  }
 },
 "nbformat": 4,
 "nbformat_minor": 2
}
