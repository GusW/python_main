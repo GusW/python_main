{
 "cells": [
  {
   "cell_type": "markdown",
   "metadata": {
    "isInteractiveWindowMessageCell": true
   },
   "source": [
    "Running cells with '/bin/python' requires the ipykernel package.  \n",
    "Run the following command to install 'ipykernel' into the Python environment.   \n",
    "Command: '/bin/python -m pip install ipykernel -U --user --force-reinstall'"
   ]
  },
  {
   "cell_type": "markdown",
   "metadata": {
    "isInteractiveWindowMessageCell": true
   },
   "source": [
    "Connected to Python 3.11.4"
   ]
  },
  {
   "cell_type": "markdown",
   "metadata": {},
   "source": [
    "# DAT 256X"
   ]
  },
  {
   "cell_type": "markdown",
   "metadata": {},
   "source": [
    "## Algebra Fundamentals"
   ]
  },
  {
   "cell_type": "markdown",
   "metadata": {},
   "source": [
    "\\begin{equation}2x + 3 = 9\\end{equation}\n",
    "\n",
    "\\begin{equation}2x = 6\\end{equation}\n",
    "\n",
    "\\begin{equation}x = 3\\end{equation}"
   ]
  },
  {
   "cell_type": "markdown",
   "metadata": {},
   "source": [
    "\n",
    "#### Distributive Property\n",
    "\n",
    "\\begin{equation}3(x + 2) = 18\\end{equation}\n",
    "\n",
    "\\begin{equation}3x + 6 = 18\\end{equation}\n",
    "\n",
    "\\begin{equation}x = 12/3\\end{equation}\n",
    "\n",
    "\\begin{equation}x = 4\\end{equation}"
   ]
  },
  {
   "cell_type": "markdown",
   "metadata": {},
   "source": [
    "### Question\n",
    "\n",
    "Find the x and y vertex coordinates for the following quadratic equation\n",
    "\n",
    "\\begin{equation}y = x^2 - 4x + 2\\end{equation}\n",
    "\n",
    "#### Resp:\n",
    "\n",
    "Vertex formula\n",
    "\n",
    "\\begin{equation}y = a(x - h)^2 + k\\end{equation}\n",
    "\n",
    "where *h* and *k* are the vertex coordinates `(X,Y)`\n",
    "\n",
    "Thus: \n",
    "\n",
    "\\begin{equation}(x - 2)^2 = x^2 - 4x + 4\\end{equation}\n",
    "\n",
    "\\begin{equation}x^2 - 4x + 4 + k = x^2 - 4x + 2\\end{equation}\n",
    "\n",
    "\\begin{equation}k = -2\\end{equation}\n",
    "\n",
    "\\begin{equation}h = 2\\end{equation}\n"
   ]
  },
  {
   "cell_type": "code",
   "execution_count": null,
   "metadata": {},
   "outputs": [],
   "source": []
  }
 ],
 "metadata": {
  "kernelspec": {
   "display_name": "Python 3",
   "language": "python",
   "name": "python3"
  },
  "language_info": {
   "codemirror_mode": {
    "name": "ipython",
    "version": 3
   },
   "file_extension": ".py",
   "mimetype": "text/x-python",
   "name": "python",
   "nbconvert_exporter": "python",
   "pygments_lexer": "ipython3",
   "version": "3.11.4"
  }
 },
 "nbformat": 4,
 "nbformat_minor": 2
}
